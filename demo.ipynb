{
 "cells": [
  {
   "cell_type": "markdown",
   "metadata": {},
   "source": [
    "# Text-to-Image Retrieval Benchmark\n",
    "\n",
    "This notebook provides a demo benchmark for the text-to-image retrieval performance of a given feature extraction model by evaluating Recall@1 across varying text token limits. It performs the following steps:\n",
    "\n",
    "1. Loads configuration from a YAML file\n",
    "2. Initializes a FeatureExtractor model\n",
    "3. Reads image file paths and text documents\n",
    "4. Processes images to create a FAISS index for image vectors\n",
    "5. Iteratively truncates text documents to different token limits, processes them into text vectors, builds corresponding FAISS indices, and computes retrieval metrics\n",
    "6. Saves the numeric Recall@1 results and generates a plot comparing token limits versus Recall@1\n",
    "\n",
    "## Required modules\n",
    "- os, yaml, faiss, numpy, pandas, matplotlib\n",
    "- data_processor (For processing data and computing metrics, data_processor.py)\n",
    "- feature_extractor (To load and use the feature extraction model, feature_extractor.py)"
   ]
  },
  {
   "cell_type": "code",
   "execution_count": 1,
   "metadata": {},
   "outputs": [],
   "source": [
    "# Import necessary libraries\n",
    "import os\n",
    "import yaml\n",
    "import faiss\n",
    "import numpy as np\n",
    "import pandas as pd\n",
    "import matplotlib.pyplot as plt\n",
    "\n",
    "from data_processor import (\n",
    "    get_ordered_paths,\n",
    "    process_all_images,\n",
    "    process_all_texts,\n",
    "    make_faiss_index,\n",
    "    get_metrics\n",
    ")\n",
    "\n",
    "from feature_extractor import FeatureExtractor"
   ]
  },
  {
   "cell_type": "markdown",
   "metadata": {},
   "source": [
    "## 1. Load Configuration\n",
    "\n",
    "Load settings from the YAML configuration file."
   ]
  },
  {
   "cell_type": "code",
   "execution_count": 3,
   "metadata": {},
   "outputs": [
    {
     "name": "stdout",
     "output_type": "stream",
     "text": [
      "Model Configuration:\n",
      "{'name': 'clip_base', 'checkpoint_path': '/path/to/checkpoint.pt'}\n",
      "\n",
      "Paths Configuration:\n",
      "{'csv_path': 'urban1k.csv', 'image_folder': 'Urban1k/image/', 'faiss_save_dir': 'faiss_save_dir/', 'results_dir': 'results/'}\n",
      "\n",
      "Dataset Configuration:\n",
      "{'name': 'urban1k'}\n",
      "\n",
      "Token Steps Configuration:\n",
      "{'start': 1, 'stop': 100, 'step': 10}\n"
     ]
    }
   ],
   "source": [
    "# Load configuration from config2.yaml\n",
    "with open(\"config.yaml\", \"r\") as f:\n",
    "    config = yaml.safe_load(f)\n",
    "\n",
    "model_cfg = config[\"model\"]\n",
    "paths_cfg = config[\"paths\"]\n",
    "data_cfg = config[\"dataset\"]\n",
    "token_cfg = config[\"token_steps\"]\n",
    "\n",
    "# Display configuration\n",
    "print(\"Model Configuration:\")\n",
    "print(model_cfg)\n",
    "print(\"\\nPaths Configuration:\")\n",
    "print(paths_cfg)\n",
    "print(\"\\nDataset Configuration:\")\n",
    "print(data_cfg)\n",
    "print(\"\\nToken Steps Configuration:\")\n",
    "print(token_cfg)"
   ]
  },
  {
   "cell_type": "markdown",
   "metadata": {},
   "source": [
    "## 2. Initialize the Feature Extractor\n",
    "\n",
    "Set up the model that will be used to extract features from both images and text."
   ]
  },
  {
   "cell_type": "code",
   "execution_count": 6,
   "metadata": {},
   "outputs": [
    {
     "name": "stdout",
     "output_type": "stream",
     "text": [
      "openai/clip-vit-base-patch32\n"
     ]
    },
    {
     "data": {
      "application/vnd.jupyter.widget-view+json": {
       "model_id": "fbd505c9ca15481292c530034463155f",
       "version_major": 2,
       "version_minor": 0
      },
      "text/plain": [
       "model.safetensors:   0%|          | 0.00/605M [00:00<?, ?B/s]"
      ]
     },
     "metadata": {},
     "output_type": "display_data"
    },
    {
     "name": "stdout",
     "output_type": "stream",
     "text": [
      "Initialized feature extractor using model: clip_base\n"
     ]
    }
   ],
   "source": [
    "# Initialize the FeatureExtractor with parameters from config\n",
    "vectorizer = FeatureExtractor(\n",
    "    model_name=model_cfg.get(\"name\", \"clip_base\"),\n",
    "    checkpoint=model_cfg.get(\"checkpoint_path\") if \"longclip\" in model_cfg.get(\"name\", \"\").lower() else None\n",
    ")\n",
    "\n",
    "print(f\"Initialized feature extractor using model: {model_cfg.get('name', 'clip_base')}\")"
   ]
  },
  {
   "cell_type": "markdown",
   "metadata": {},
   "source": [
    "## 3. Load File Paths & Create Output Directories\n",
    "\n",
    "Set up paths and ensure required directories exist."
   ]
  },
  {
   "cell_type": "code",
   "execution_count": 9,
   "metadata": {},
   "outputs": [
    {
     "name": "stdout",
     "output_type": "stream",
     "text": [
      "CSV path: urban1k.csv\n",
      "Image folder: Urban1k/image/\n",
      "FAISS save directory: faiss_save_dir/\n",
      "Results directory: results/\n",
      "Output name: recalls_vs_tokens_clip_base_urban1k\n"
     ]
    }
   ],
   "source": [
    "# Load file paths & create output directories\n",
    "file_path    = paths_cfg[\"csv_path\"]\n",
    "image_folder = paths_cfg[\"image_folder\"]\n",
    "save_dir     = paths_cfg[\"faiss_save_dir\"]\n",
    "result_dir   = paths_cfg[\"results_dir\"]\n",
    "\n",
    "# Create directories if they do not exist\n",
    "os.makedirs(save_dir, exist_ok=True)\n",
    "os.makedirs(result_dir, exist_ok=True)\n",
    "\n",
    "# Construct an output name based on model and dataset names\n",
    "output_name = \"recalls_vs_tokens_\" + model_cfg[\"name\"] + \"_\" + data_cfg[\"name\"]\n",
    "\n",
    "print(f\"CSV path: {file_path}\")\n",
    "print(f\"Image folder: {image_folder}\")\n",
    "print(f\"FAISS save directory: {save_dir}\")\n",
    "print(f\"Results directory: {result_dir}\")\n",
    "print(f\"Output name: {output_name}\")"
   ]
  },
  {
   "cell_type": "markdown",
   "metadata": {},
   "source": [
    "## 4. Read CSV and Prepare Data\n",
    "\n",
    "Load and prepare the image paths and text documents."
   ]
  },
  {
   "cell_type": "code",
   "execution_count": 12,
   "metadata": {},
   "outputs": [
    {
     "name": "stdout",
     "output_type": "stream",
     "text": [
      "Loaded 1000 image paths\n",
      "Loaded 1000 text documents\n",
      "\n",
      "Sample image path: Urban1k/image/1.jpg\n",
      "\n",
      "Sample text document (truncated): This image depicts a lively outdoor café scene on a sunny day. Patrons sit at tables under a large o ...\n"
     ]
    }
   ],
   "source": [
    "# Get ordered image paths using a helper function\n",
    "image_paths = get_ordered_paths(image_folder, file_path)\n",
    "\n",
    "# Load CSV containing text documents\n",
    "df = pd.read_csv(file_path, dtype={'document': str})\n",
    "if \"document\" not in df.columns:\n",
    "    raise ValueError(\"CSV file must contain a 'document' column for text data.\")\n",
    "ordered_texts = df[\"document\"].tolist()\n",
    "\n",
    "print(f\"Loaded {len(image_paths)} image paths\")\n",
    "print(f\"Loaded {len(ordered_texts)} text documents\")\n",
    "\n",
    "# Display sample data (first entry)\n",
    "if len(image_paths) > 0 and len(ordered_texts) > 0:\n",
    "    print(\"\\nSample image path:\", image_paths[0])\n",
    "    print(\"\\nSample text document (truncated):\", ordered_texts[0][:100], \"...\")"
   ]
  },
  {
   "cell_type": "markdown",
   "metadata": {},
   "source": [
    "## 5. Process Images and Create Image FAISS Index\n",
    "\n",
    "Process all images to extract feature vectors and build a FAISS index for efficient similarity search."
   ]
  },
  {
   "cell_type": "code",
   "execution_count": 17,
   "metadata": {},
   "outputs": [
    {
     "name": "stdout",
     "output_type": "stream",
     "text": [
      "Processing images and creating FAISS index...\n",
      "Created FAISS index for images\n",
      "Image FAISS index saved to: faiss_save_dir/clip_base_image.bin\n"
     ]
    }
   ],
   "source": [
    "print(\"Processing images and creating FAISS index...\")\n",
    "# Process images to extract their feature vectors\n",
    "image_vectors = process_all_images(image_paths, vectorizer)\n",
    "# print(f\"Processed {len(image_vectors)} images with vector shape: {image_vectors.shape}\")\n",
    "\n",
    "# Build a FAISS index from the image vectors for efficient similarity search\n",
    "image_db = make_faiss_index(image_vectors)\n",
    "print(\"Created FAISS index for images\")\n",
    "\n",
    "# Save the FAISS index for images\n",
    "image_db_filename = os.path.join(save_dir, f\"{model_cfg['name']}_image.bin\")\n",
    "faiss.write_index(image_db, image_db_filename)\n",
    "print(f\"Image FAISS index saved to: {image_db_filename}\")"
   ]
  },
  {
   "cell_type": "markdown",
   "metadata": {},
   "source": [
    "## 6. Evaluate Text-to-Image Retrieval at Different Token Limits\n",
    "\n",
    "Iteratively evaluate the retrieval performance with varying text token limits."
   ]
  },
  {
   "cell_type": "code",
   "execution_count": 22,
   "metadata": {},
   "outputs": [
    {
     "name": "stdout",
     "output_type": "stream",
     "text": [
      "Evaluating text-to-image retrieval with varying token limits...\n",
      "\n",
      "Processing token limit: 1\n",
      "Created FAISS index for texts\n",
      "Text FAISS index saved to: faiss_save_dir/clip_base_token_1.bin\n",
      "\n",
      "Retrieval metrics:\n",
      "        Metric     Value\n",
      "0       MRR@10  0.002929\n",
      "1     Recall@1  0.001000\n",
      "2    Recall@10  0.010000\n",
      "3  Recall@1000  0.100000\n",
      "Token limit: 1, Recall@1: 0.001\n",
      "\n",
      "Processing token limit: 11\n",
      "Created FAISS index for texts\n",
      "Text FAISS index saved to: faiss_save_dir/clip_base_token_11.bin\n",
      "\n",
      "Retrieval metrics:\n",
      "        Metric    Value\n",
      "0       MRR@10  0.18049\n",
      "1     Recall@1  0.12800\n",
      "2    Recall@10  0.32100\n",
      "3  Recall@1000  0.60400\n",
      "Token limit: 11, Recall@1: 0.128\n",
      "\n",
      "Processing token limit: 21\n",
      "Created FAISS index for texts\n",
      "Text FAISS index saved to: faiss_save_dir/clip_base_token_21.bin\n",
      "\n",
      "Retrieval metrics:\n",
      "        Metric     Value\n",
      "0       MRR@10  0.353184\n",
      "1     Recall@1  0.262000\n",
      "2    Recall@10  0.573000\n",
      "3  Recall@1000  0.867000\n",
      "Token limit: 21, Recall@1: 0.262\n",
      "\n",
      "Processing token limit: 31\n",
      "Created FAISS index for texts\n",
      "Text FAISS index saved to: faiss_save_dir/clip_base_token_31.bin\n",
      "\n",
      "Retrieval metrics:\n",
      "        Metric     Value\n",
      "0       MRR@10  0.436221\n",
      "1     Recall@1  0.347000\n",
      "2    Recall@10  0.642000\n",
      "3  Recall@1000  0.928000\n",
      "Token limit: 31, Recall@1: 0.347\n",
      "\n",
      "Processing token limit: 41\n",
      "Created FAISS index for texts\n",
      "Text FAISS index saved to: faiss_save_dir/clip_base_token_41.bin\n",
      "\n",
      "Retrieval metrics:\n",
      "        Metric     Value\n",
      "0       MRR@10  0.487882\n",
      "1     Recall@1  0.386000\n",
      "2    Recall@10  0.715000\n",
      "3  Recall@1000  0.953000\n",
      "Token limit: 41, Recall@1: 0.386\n",
      "\n",
      "Processing token limit: 51\n",
      "Created FAISS index for texts\n",
      "Text FAISS index saved to: faiss_save_dir/clip_base_token_51.bin\n",
      "\n",
      "Retrieval metrics:\n",
      "        Metric     Value\n",
      "0       MRR@10  0.540658\n",
      "1     Recall@1  0.437000\n",
      "2    Recall@10  0.752000\n",
      "3  Recall@1000  0.964000\n",
      "Token limit: 51, Recall@1: 0.437\n",
      "\n",
      "Processing token limit: 61\n",
      "Created FAISS index for texts\n",
      "Text FAISS index saved to: faiss_save_dir/clip_base_token_61.bin\n",
      "\n",
      "Retrieval metrics:\n",
      "        Metric     Value\n",
      "0       MRR@10  0.545861\n",
      "1     Recall@1  0.441000\n",
      "2    Recall@10  0.769000\n",
      "3  Recall@1000  0.969000\n",
      "Token limit: 61, Recall@1: 0.441\n",
      "\n",
      "Processing token limit: 71\n",
      "Created FAISS index for texts\n",
      "Text FAISS index saved to: faiss_save_dir/clip_base_token_71.bin\n",
      "\n",
      "Retrieval metrics:\n",
      "        Metric     Value\n",
      "0       MRR@10  0.560557\n",
      "1     Recall@1  0.454000\n",
      "2    Recall@10  0.778000\n",
      "3  Recall@1000  0.970000\n",
      "Token limit: 71, Recall@1: 0.454\n",
      "\n",
      "Processing token limit: 81\n"
     ]
    },
    {
     "name": "stderr",
     "output_type": "stream",
     "text": [
      "Token indices sequence length is longer than the specified maximum sequence length for this model (82 > 77). Running this sequence through the model will result in indexing errors\n"
     ]
    },
    {
     "name": "stdout",
     "output_type": "stream",
     "text": [
      "Created FAISS index for texts\n",
      "Text FAISS index saved to: faiss_save_dir/clip_base_token_81.bin\n",
      "\n",
      "Retrieval metrics:\n",
      "        Metric     Value\n",
      "0       MRR@10  0.487002\n",
      "1     Recall@1  0.378000\n",
      "2    Recall@10  0.723000\n",
      "3  Recall@1000  0.955000\n",
      "Token limit: 81, Recall@1: 0.378\n",
      "\n",
      "Processing token limit: 91\n",
      "Created FAISS index for texts\n",
      "Text FAISS index saved to: faiss_save_dir/clip_base_token_91.bin\n",
      "\n",
      "Retrieval metrics:\n",
      "        Metric     Value\n",
      "0       MRR@10  0.506811\n",
      "1     Recall@1  0.401000\n",
      "2    Recall@10  0.737000\n",
      "3  Recall@1000  0.959000\n",
      "Token limit: 91, Recall@1: 0.401\n"
     ]
    }
   ],
   "source": [
    "recalls_1 = []  # To store Recall@1 values for different token limits\n",
    "\n",
    "# Determine token limits from the configuration\n",
    "token_values = range(token_cfg[\"start\"], token_cfg[\"stop\"], token_cfg[\"step\"])\n",
    "\n",
    "print(\"Evaluating text-to-image retrieval with varying token limits...\")\n",
    "for token_limit in token_values:\n",
    "    print(f\"\\nProcessing token limit: {token_limit}\")\n",
    "    \n",
    "    # Truncate each document to 'token_limit' tokens\n",
    "    truncated_texts = [\n",
    "        vectorizer.truncate_text_by_tokens(doc, token_limit) for doc in ordered_texts\n",
    "    ]\n",
    "    \n",
    "    # Process the truncated texts to extract their feature vectors\n",
    "    text_vectors = process_all_texts(truncated_texts, vectorizer)\n",
    "    # print(f\"Processed {len(text_vectors)} texts with vector shape: {text_vectors.shape}\")\n",
    "    \n",
    "    # Create a FAISS index from the text vectors\n",
    "    text_db = make_faiss_index(text_vectors)\n",
    "    print(\"Created FAISS index for texts\")\n",
    "    \n",
    "    # Optional: Save the FAISS index for the current token limit\n",
    "    text_db_filename = os.path.join(save_dir, f\"{model_cfg['name']}_token_{token_limit}.bin\")\n",
    "    faiss.write_index(text_db, text_db_filename)\n",
    "    print(f\"Text FAISS index saved to: {text_db_filename}\")\n",
    "    \n",
    "    # Compute retrieval metrics\n",
    "    metrics_df = get_metrics(text_db, image_db, k=1000)\n",
    "    \n",
    "    # Display metrics\n",
    "    print(\"\\nRetrieval metrics:\")\n",
    "    print(metrics_df)\n",
    "    \n",
    "    # Assume that the second row in the \"Value\" column represents Recall@1\n",
    "    recall_1_value = metrics_df[\"Value\"].iloc[1]\n",
    "    recalls_1.append(recall_1_value)\n",
    "    print(f\"Token limit: {token_limit}, Recall@1: {recall_1_value}\")"
   ]
  },
  {
   "cell_type": "markdown",
   "metadata": {},
   "source": [
    "## 7. Save Results and Generate Plot\n",
    "\n",
    "Save the numeric Recall@1 results and create a visualization of token limits versus retrieval performance."
   ]
  },
  {
   "cell_type": "code",
   "execution_count": 25,
   "metadata": {},
   "outputs": [
    {
     "name": "stdout",
     "output_type": "stream",
     "text": [
      "Recall@1 values saved to: results/recalls_vs_tokens_clip_base_urban1k.csv\n"
     ]
    },
    {
     "data": {
      "text/html": [
       "<div>\n",
       "<style scoped>\n",
       "    .dataframe tbody tr th:only-of-type {\n",
       "        vertical-align: middle;\n",
       "    }\n",
       "\n",
       "    .dataframe tbody tr th {\n",
       "        vertical-align: top;\n",
       "    }\n",
       "\n",
       "    .dataframe thead th {\n",
       "        text-align: right;\n",
       "    }\n",
       "</style>\n",
       "<table border=\"1\" class=\"dataframe\">\n",
       "  <thead>\n",
       "    <tr style=\"text-align: right;\">\n",
       "      <th></th>\n",
       "      <th>Token Limit</th>\n",
       "      <th>Recall@1</th>\n",
       "    </tr>\n",
       "  </thead>\n",
       "  <tbody>\n",
       "    <tr>\n",
       "      <th>0</th>\n",
       "      <td>1</td>\n",
       "      <td>0.001</td>\n",
       "    </tr>\n",
       "    <tr>\n",
       "      <th>1</th>\n",
       "      <td>11</td>\n",
       "      <td>0.128</td>\n",
       "    </tr>\n",
       "    <tr>\n",
       "      <th>2</th>\n",
       "      <td>21</td>\n",
       "      <td>0.262</td>\n",
       "    </tr>\n",
       "    <tr>\n",
       "      <th>3</th>\n",
       "      <td>31</td>\n",
       "      <td>0.347</td>\n",
       "    </tr>\n",
       "    <tr>\n",
       "      <th>4</th>\n",
       "      <td>41</td>\n",
       "      <td>0.386</td>\n",
       "    </tr>\n",
       "    <tr>\n",
       "      <th>5</th>\n",
       "      <td>51</td>\n",
       "      <td>0.437</td>\n",
       "    </tr>\n",
       "    <tr>\n",
       "      <th>6</th>\n",
       "      <td>61</td>\n",
       "      <td>0.441</td>\n",
       "    </tr>\n",
       "    <tr>\n",
       "      <th>7</th>\n",
       "      <td>71</td>\n",
       "      <td>0.454</td>\n",
       "    </tr>\n",
       "    <tr>\n",
       "      <th>8</th>\n",
       "      <td>81</td>\n",
       "      <td>0.378</td>\n",
       "    </tr>\n",
       "    <tr>\n",
       "      <th>9</th>\n",
       "      <td>91</td>\n",
       "      <td>0.401</td>\n",
       "    </tr>\n",
       "  </tbody>\n",
       "</table>\n",
       "</div>"
      ],
      "text/plain": [
       "   Token Limit  Recall@1\n",
       "0            1     0.001\n",
       "1           11     0.128\n",
       "2           21     0.262\n",
       "3           31     0.347\n",
       "4           41     0.386\n",
       "5           51     0.437\n",
       "6           61     0.441\n",
       "7           71     0.454\n",
       "8           81     0.378\n",
       "9           91     0.401"
      ]
     },
     "metadata": {},
     "output_type": "display_data"
    }
   ],
   "source": [
    "# Save the Recall@1 results as a CSV file\n",
    "recall_csv_path = os.path.join(result_dir, f\"{output_name}.csv\")\n",
    "np.savetxt(recall_csv_path, recalls_1, delimiter=\",\")\n",
    "print(f\"Recall@1 values saved to: {recall_csv_path}\")\n",
    "\n",
    "# Create a DataFrame for better visibility in the notebook\n",
    "results_df = pd.DataFrame({\n",
    "    'Token Limit': list(token_values),\n",
    "    'Recall@1': recalls_1\n",
    "})\n",
    "display(results_df)"
   ]
  },
  {
   "cell_type": "code",
   "execution_count": 27,
   "metadata": {},
   "outputs": [
    {
     "name": "stdout",
     "output_type": "stream",
     "text": [
      "Plot saved to: results/recalls_vs_tokens_clip_base_urban1k.png\n"
     ]
    },
    {
     "data": {
      "image/png": "[encoded data removed]",
      "text/plain": [
       "<Figure size 1000x600 with 1 Axes>"
      ]
     },
     "metadata": {},
     "output_type": "display_data"
    }
   ],
   "source": [
    "# Generate a plot of Recall@1 vs. Number of Tokens used in the query\n",
    "plt.figure(figsize=(10, 6))\n",
    "plt.plot(token_values, recalls_1, marker='o', linestyle='-', color='blue', label='Recall@1')\n",
    "plt.xlabel(\"Number of Tokens Used in Query\")\n",
    "plt.ylabel(\"Recall@1\")\n",
    "plt.title(\"Recall@1 vs. Number of Tokens Used\")\n",
    "plt.legend()\n",
    "plt.grid(True)\n",
    "\n",
    "# Save the plot as a PNG file\n",
    "plot_path = os.path.join(result_dir, f\"{output_name}.png\")\n",
    "plt.savefig(plot_path)\n",
    "print(f\"Plot saved to: {plot_path}\")\n",
    "\n",
    "# Display the plot in the notebook\n",
    "plt.show()"
   ]
  }
 ],
 "metadata": {
  "kernelspec": {
   "display_name": "Python 3 (ipykernel)",
   "language": "python",
   "name": "python3"
  },
  "language_info": {
   "codemirror_mode": {
    "name": "ipython",
    "version": 3
   },
   "file_extension": ".py",
   "mimetype": "text/x-python",
   "name": "python",
   "nbconvert_exporter": "python",
   "pygments_lexer": "ipython3",
   "version": "3.11.5"
  }
 },
 "nbformat": 4,
 "nbformat_minor": 4
}
